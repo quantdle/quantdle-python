{
  "cells": [
    {
      "cell_type": "markdown",
      "metadata": {
        "vscode": {
          "languageId": "raw"
        }
      },
      "source": [
        "# Quantdle Python Client - Comprehensive Examples\n",
        "\n",
        "This notebook demonstrates how to use the Quantdle Python client to download historical financial market data.\n",
        "\n",
        "## Features Demonstrated\n",
        "\n",
        "- **Basic data downloading** - Simple data retrieval for analysis\n",
        "- **Multiple symbols and timeframes** - Efficient batch downloads  \n",
        "- **Pandas vs Polars DataFrames** - Choose the right tool for your data size\n",
        "- **Large date range handling** - Automatic chunking for big datasets\n",
        "- **Advanced configuration** - Customizing downloads for optimal performance\n",
        "- **Symbol discovery** - Finding available data and getting symbol information\n",
        "- **Error handling** - Robust code for production use\n",
        "- **Technical analysis** - Real-world data analysis examples\n",
        "\n",
        "## Prerequisites\n",
        "\n",
        "```bash\n",
        "# Install the quantdle package\n",
        "pip install quantdle\n",
        "\n",
        "# Optional: For polars support\n",
        "pip install quantdle[polars]\n",
        "```\n",
        "\n",
        "## Setup\n",
        "\n",
        "Set your API credentials as environment variables for security:\n",
        "\n",
        "```bash\n",
        "export QDL_API_KEY='your-api-key'\n",
        "export QDL_API_KEY_ID='your-api-key-id'\n",
        "```\n"
      ]
    },
    {
      "cell_type": "code",
      "execution_count": 1,
      "metadata": {},
      "outputs": [
        {
          "ename": "ModuleNotFoundError",
          "evalue": "No module named 'quantdle'",
          "output_type": "error",
          "traceback": [
            "\u001b[0;31m---------------------------------------------------------------------------\u001b[0m",
            "\u001b[0;31mModuleNotFoundError\u001b[0m                       Traceback (most recent call last)",
            "Cell \u001b[0;32mIn[1], line 4\u001b[0m\n\u001b[1;32m      2\u001b[0m \u001b[38;5;28;01mimport\u001b[39;00m \u001b[38;5;21;01mos\u001b[39;00m\n\u001b[1;32m      3\u001b[0m \u001b[38;5;28;01mfrom\u001b[39;00m \u001b[38;5;21;01mdatetime\u001b[39;00m \u001b[38;5;28;01mimport\u001b[39;00m datetime, timedelta\n\u001b[0;32m----> 4\u001b[0m \u001b[38;5;28;01mimport\u001b[39;00m \u001b[38;5;21;01mquantdle\u001b[39;00m \u001b[38;5;28;01mas\u001b[39;00m \u001b[38;5;21;01mqdl\u001b[39;00m\n\u001b[1;32m      5\u001b[0m \u001b[38;5;28;01mimport\u001b[39;00m \u001b[38;5;21;01mpandas\u001b[39;00m \u001b[38;5;28;01mas\u001b[39;00m \u001b[38;5;21;01mpd\u001b[39;00m\n\u001b[1;32m      7\u001b[0m \u001b[38;5;66;03m# Setup function\u001b[39;00m\n",
            "\u001b[0;31mModuleNotFoundError\u001b[0m: No module named 'quantdle'"
          ]
        }
      ],
      "source": [
        "# Import required libraries\n",
        "import os\n",
        "from datetime import datetime, timedelta\n",
        "import quantdle as qdl\n",
        "import pandas as pd\n",
        "\n",
        "# Setup function\n",
        "def setup_client():\n",
        "    \"\"\"\n",
        "    Initialize the Quantdle client with your API credentials.\n",
        "    \n",
        "    For security, it's recommended to store credentials as environment variables:\n",
        "    - QDL_API_KEY: Your Quantdle API key\n",
        "    - QDL_API_KEY_ID: Your Quantdle API key ID\n",
        "    \"\"\"\n",
        "    \n",
        "    # Option 1: Use environment variables (recommended)\n",
        "    api_key = os.getenv('QDL_API_KEY')\n",
        "    api_key_id = os.getenv('QDL_API_KEY_ID')\n",
        "    \n",
        "    if not api_key or not api_key_id:\n",
        "        print(\"Please set QDL_API_KEY and QDL_API_KEY_ID environment variables\")\n",
        "        print(\"   Example:\")\n",
        "        print(\"   export QDL_API_KEY='your-api-key'\")\n",
        "        print(\"   export QDL_API_KEY_ID='your-api-key-id'\")\n",
        "        return None\n",
        "    \n",
        "    # Option 2: Direct assignment (not recommended for production)\n",
        "    # api_key = \"your-api-key\"\n",
        "    # api_key_id = \"your-api-key-id\"\n",
        "    \n",
        "    client = qdl.Client(api_key=api_key, api_key_id=api_key_id)\n",
        "    print(\"Quantdle client initialized successfully!\")\n",
        "    return client\n",
        "\n",
        "# Initialize the client\n",
        "client = setup_client()\n"
      ]
    },
    {
      "cell_type": "markdown",
      "metadata": {
        "vscode": {
          "languageId": "raw"
        }
      },
      "source": [
        "# Example 1: Basic Data Download\n",
        "\n",
        "Let's start with downloading basic market data for a single symbol and timeframe.\n"
      ]
    },
    {
      "cell_type": "code",
      "execution_count": null,
      "metadata": {},
      "outputs": [],
      "source": [
        "# Download 1 month of EURUSD hourly data\n",
        "print(\"Downloading EURUSD H1 data for January 2024...\")\n",
        "\n",
        "df = client.download_data(\n",
        "    symbol=\"EURUSD\",\n",
        "    timeframe=\"H1\", \n",
        "    start_date=\"2024-01-01\",\n",
        "    end_date=\"2024-01-31\"\n",
        ")\n",
        "\n",
        "print(f\"Downloaded {len(df):,} data points\")\n",
        "print(f\"Date range: {df['timestamp'].min()} to {df['timestamp'].max()}\")\n",
        "\n",
        "# Display sample data\n",
        "print(\"\\nSample data:\")\n",
        "df.head(10)\n"
      ]
    },
    {
      "cell_type": "code",
      "execution_count": null,
      "metadata": {},
      "outputs": [],
      "source": [
        "# Basic statistics\n",
        "print(\"Basic statistics:\")\n",
        "df[['open', 'high', 'low', 'close', 'volume']].describe()\n"
      ]
    },
    {
      "cell_type": "markdown",
      "metadata": {
        "vscode": {
          "languageId": "raw"
        }
      },
      "source": [
        "# Example 2: Multiple Symbols and Timeframes\n",
        "\n",
        "Download data for multiple symbols and timeframes efficiently.\n"
      ]
    },
    {
      "cell_type": "code",
      "execution_count": null,
      "metadata": {},
      "outputs": [],
      "source": [
        "# Define the symbols and timeframes we want to download\n",
        "symbols_config = [\n",
        "    {\"symbol\": \"EURUSD\", \"timeframe\": \"D1\", \"name\": \"EUR/USD Daily\"},\n",
        "    {\"symbol\": \"GBPUSD\", \"timeframe\": \"H4\", \"name\": \"GBP/USD 4-Hour\"},\n",
        "    {\"symbol\": \"XAUUSD\", \"timeframe\": \"H1\", \"name\": \"Gold 1-Hour\"},\n",
        "]\n",
        "\n",
        "# Download data for the last 30 days\n",
        "end_date = datetime.now().strftime(\"%Y-%m-%d\")\n",
        "start_date = (datetime.now() - timedelta(days=30)).strftime(\"%Y-%m-%d\")\n",
        "\n",
        "datasets = {}\n",
        "\n",
        "for config in symbols_config:\n",
        "    try:\n",
        "        print(f\"Downloading {config['name']} ({config['symbol']} {config['timeframe']})...\")\n",
        "        \n",
        "        df = client.download_data(\n",
        "            symbol=config[\"symbol\"],\n",
        "            timeframe=config[\"timeframe\"],\n",
        "            start_date=start_date,\n",
        "            end_date=end_date,\n",
        "            show_progress=True\n",
        "        )\n",
        "        \n",
        "        datasets[config[\"symbol\"]] = df\n",
        "        print(f\"Downloaded {len(df):,} data points for {config['name']}\")\n",
        "        \n",
        "    except Exception as e:\n",
        "        print(f\"Error downloading {config['symbol']}: {e}\")\n",
        "\n",
        "# Compare closing prices\n",
        "if datasets:\n",
        "    print(f\"\\nLatest closing prices:\")\n",
        "    for symbol, df in datasets.items():\n",
        "        if not df.empty:\n",
        "            latest = df.iloc[-1]\n",
        "            print(f\"   {symbol}: {latest['close']:.5f} (Volume: {latest['volume']:,})\")\n"
      ]
    },
    {
      "cell_type": "markdown",
      "metadata": {
        "vscode": {
          "languageId": "raw"
        }
      },
      "source": [
        "# Example 3: Using Polars DataFrames\n",
        "\n",
        "Demonstrate using polars DataFrames for better performance with large datasets.\n",
        "\n",
        "> **Note**: Requires polars: `pip install quantdle[polars]`\n"
      ]
    },
    {
      "cell_type": "code",
      "execution_count": null,
      "metadata": {},
      "outputs": [],
      "source": [
        "try:\n",
        "    # Check if polars is available\n",
        "    import polars as pl\n",
        "    print(\"Polars is available\")\n",
        "    \n",
        "    print(\"Downloading BTCUSD data as Polars DataFrame...\")\n",
        "    \n",
        "    df_polars = client.download_data(\n",
        "        symbol=\"BTCUSD\",\n",
        "        timeframe=\"H1\",\n",
        "        start_date=\"2024-01-01\",\n",
        "        end_date=\"2024-01-15\",\n",
        "        output_format=\"polars\"\n",
        "    )\n",
        "    \n",
        "    print(f\"Downloaded {len(df_polars):,} data points as Polars DataFrame\")\n",
        "    print(f\"DataFrame info: {df_polars.shape[0]} rows {df_polars.shape[1]} columns\")\n",
        "    \n",
        "    # Demonstrate some polars operations\n",
        "    print(\"\\nPolars DataFrame operations:\")\n",
        "    \n",
        "    # Calculate daily returns\n",
        "    daily_returns = df_polars.with_columns([\n",
        "        (pl.col(\"close\").pct_change() * 100).alias(\"return_pct\")\n",
        "    ])\n",
        "    \n",
        "    print(\"Sample with returns:\")\n",
        "    daily_returns.head(10)\n",
        "    \n",
        "except ImportError:\n",
        "    print(\"Polars not available. Install with: pip install quantdle[polars]\")\n",
        "    print(\"Falling back to pandas DataFrame...\")\n",
        "    \n",
        "    df_polars = client.download_data(\n",
        "        symbol=\"XAUUSD\",\n",
        "        timeframe=\"H1\",\n",
        "        start_date=\"2024-01-01\",\n",
        "        end_date=\"2024-01-15\",\n",
        "        output_format=\"pandas\"  # Use pandas instead\n",
        "    )\n",
        "    \n",
        "    print(f\"Downloaded {len(df_polars):,} data points as Pandas DataFrame\")\n",
        "    \n",
        "except Exception as e:\n",
        "    print(f\"Error downloading XAUUSD data: {e}\")\n"
      ]
    },
    {
      "cell_type": "code",
      "execution_count": null,
      "metadata": {},
      "outputs": [],
      "source": [
        "# If we have polars, show some advanced operations\n",
        "try:\n",
        "    import polars as pl\n",
        "    \n",
        "    # Calculate some statistics using polars\n",
        "    stats = df_polars.select([\n",
        "        pl.col(\"high\").max().alias(\"max_high\"),\n",
        "        pl.col(\"low\").min().alias(\"min_low\"),\n",
        "        pl.col(\"volume\").mean().alias(\"avg_volume\"),\n",
        "        pl.col(\"close\").std().alias(\"price_volatility\")\n",
        "    ])\n",
        "    \n",
        "    print(\"Statistical summary using Polars:\")\n",
        "    stats\n",
        "    \n",
        "except ImportError:\n",
        "    print(\"Polars operations skipped - polars not available\")\n"
      ]
    },
    {
      "cell_type": "markdown",
      "metadata": {
        "vscode": {
          "languageId": "raw"
        }
      },
      "source": [
        "# Example 4: Symbol Discovery and Information\n",
        "\n",
        "Discover available symbols and get information about them.\n"
      ]
    },
    {
      "cell_type": "code",
      "execution_count": null,
      "metadata": {},
      "outputs": [],
      "source": [
        "# Get all available symbols\n",
        "print(\"Discovering available symbols...\")\n",
        "symbols = client.get_available_symbols()\n",
        "\n",
        "print(f\"Found {len(symbols)} available symbols\")\n",
        "print(f\"Sample symbols: {symbols[:10]}\")\n",
        "\n",
        "# Get detailed information for some popular symbols\n",
        "popular_symbols = ['EURUSD', 'GBPUSD', 'XAUUSD', 'BTCUSD']\n",
        "\n",
        "print(\"\\nSymbol Information:\")\n",
        "print(\"-\" * 80)\n",
        "\n",
        "symbol_info = {}\n",
        "for symbol in popular_symbols:\n",
        "    if symbol in symbols:\n",
        "        try:\n",
        "            info = client.get_symbol_info(symbol)\n",
        "            symbol_info[symbol] = info\n",
        "            \n",
        "            print(f\"{symbol}:\")\n",
        "            print(f\"   Available from: {info.get('available_from', 'N/A')}\")\n",
        "            print(f\"   Available to: {info.get('available_to', 'N/A')}\")\n",
        "            print(f\"   Data points: {info.get('data_points', 'N/A'):,}\")\n",
        "            print()\n",
        "            \n",
        "        except Exception as e:\n",
        "            print(f\"Could not get info for {symbol}: {e}\")\n",
        "    else:\n",
        "        print(f\"{symbol} not available in your account\")\n"
      ]
    },
    {
      "cell_type": "markdown",
      "metadata": {
        "vscode": {
          "languageId": "raw"
        }
      },
      "source": [
        "# Example 5: Advanced Data Analysis\n",
        "\n",
        "Perform technical analysis on downloaded data.\n"
      ]
    },
    {
      "cell_type": "code",
      "execution_count": null,
      "metadata": {},
      "outputs": [],
      "source": [
        "# Use the EURUSD data we downloaded earlier for analysis\n",
        "analysis_df = df.copy()\n",
        "\n",
        "# Ensure timestamp is datetime and set as index\n",
        "if 'timestamp' in analysis_df.columns:\n",
        "    analysis_df['timestamp'] = pd.to_datetime(analysis_df['timestamp'])\n",
        "    analysis_df = analysis_df.set_index('timestamp')\n",
        "\n",
        "print(\"Technical Analysis Examples:\")\n",
        "\n",
        "# Calculate moving averages\n",
        "analysis_df['MA_20'] = analysis_df['close'].rolling(window=20).mean()\n",
        "analysis_df['MA_50'] = analysis_df['close'].rolling(window=50).mean()\n",
        "\n",
        "# Calculate daily returns\n",
        "analysis_df['daily_return'] = analysis_df['close'].pct_change()\n",
        "\n",
        "# Calculate volatility (20-day rolling standard deviation)\n",
        "analysis_df['volatility'] = analysis_df['daily_return'].rolling(window=20).std() * 100\n",
        "\n",
        "# RSI calculation (simplified)\n",
        "def calculate_rsi(prices, window=14):\n",
        "    delta = prices.diff()\n",
        "    gain = (delta.where(delta > 0, 0)).rolling(window=window).mean()\n",
        "    loss = (-delta.where(delta < 0, 0)).rolling(window=window).mean()\n",
        "    rs = gain / loss\n",
        "    return 100 - (100 / (1 + rs))\n",
        "\n",
        "analysis_df['RSI'] = calculate_rsi(analysis_df['close'])\n",
        "\n",
        "# Display the enhanced dataframe\n",
        "print(\"\\nData with technical indicators:\")\n",
        "analysis_df[['close', 'MA_20', 'MA_50', 'daily_return', 'volatility', 'RSI']].tail(10)\n"
      ]
    },
    {
      "cell_type": "code",
      "execution_count": null,
      "metadata": {},
      "outputs": [],
      "source": [
        "# Print latest technical indicators\n",
        "latest = analysis_df.iloc[-1]\n",
        "print(f\"Latest Technical Indicators:\")\n",
        "print(f\"   Price: {latest['close']:.5f}\")\n",
        "print(f\"   20-day MA: {latest['MA_20']:.5f}\")\n",
        "print(f\"   50-day MA: {latest['MA_50']:.5f}\")\n",
        "print(f\"   Daily Return: {latest['daily_return']*100:.2f}%\")\n",
        "print(f\"   Volatility (20d): {latest['volatility']:.2f}%\")\n",
        "print(f\"   RSI: {latest['RSI']:.1f}\")\n",
        "\n",
        "# Trading signals\n",
        "print(f\"\\nSimple Trading Signals:\")\n",
        "\n",
        "if latest['MA_20'] > latest['MA_50']:\n",
        "    print(\"   Bullish: 20-day MA above 50-day MA\")\n",
        "else:\n",
        "    print(\"   Bearish: 20-day MA below 50-day MA\")\n",
        "    \n",
        "if latest['RSI'] > 70:\n",
        "    print(\"    Overbought: RSI > 70\")\n",
        "elif latest['RSI'] < 30:\n",
        "    print(\"    Oversold: RSI < 30\")\n",
        "else:\n",
        "    print(\"   Normal: RSI in neutral zone\")\n"
      ]
    },
    {
      "cell_type": "code",
      "execution_count": null,
      "metadata": {},
      "outputs": [],
      "source": [
        "# Statistical summary\n",
        "print(f\"Statistical Summary (last 100 periods):\")\n",
        "recent_data = analysis_df.tail(100)\n",
        "summary_stats = {\n",
        "    'Avg Daily Return': f\"{recent_data['daily_return'].mean()*100:.3f}%\",\n",
        "    'Volatility': f\"{recent_data['daily_return'].std()*100:.2f}%\",\n",
        "    'Max Drawdown': f\"{((recent_data['close'] / recent_data['close'].cummax()) - 1).min()*100:.2f}%\",\n",
        "    'Sharpe Ratio': f\"{(recent_data['daily_return'].mean() / recent_data['daily_return'].std()) * (252**0.5):.2f}\"\n",
        "}\n",
        "\n",
        "for metric, value in summary_stats.items():\n",
        "    print(f\"   {metric}: {value}\")\n"
      ]
    },
    {
      "cell_type": "markdown",
      "metadata": {
        "vscode": {
          "languageId": "raw"
        }
      },
      "source": [
        "# Example 6: Error Handling Best Practices\n",
        "\n",
        "Demonstrate proper error handling when working with the API.\n"
      ]
    },
    {
      "cell_type": "code",
      "execution_count": null,
      "metadata": {},
      "outputs": [],
      "source": [
        "# Test with invalid symbol\n",
        "print(\"Testing error handling with invalid symbol...\")\n",
        "try:\n",
        "    df = client.download_data(\n",
        "        symbol=\"INVALID_SYMBOL\",\n",
        "        timeframe=\"H1\",\n",
        "        start_date=\"2024-01-01\",\n",
        "        end_date=\"2024-01-02\"\n",
        "    )\n",
        "    print(\"This should have failed!\")\n",
        "except Exception as e:\n",
        "    print(f\"Properly caught error: {e}\")\n",
        "\n",
        "# Test with invalid date range\n",
        "print(\"\\nTesting with invalid date range...\")\n",
        "try:\n",
        "    df = client.download_data(\n",
        "        symbol=\"EURUSD\",\n",
        "        timeframe=\"H1\", \n",
        "        start_date=\"2025-01-01\",  # Future date\n",
        "        end_date=\"2025-01-02\"\n",
        "    )\n",
        "    print(\"This should have failed!\")\n",
        "except Exception as e:\n",
        "    print(f\"Properly caught error: {e}\")\n"
      ]
    },
    {
      "cell_type": "code",
      "execution_count": null,
      "metadata": {},
      "outputs": [],
      "source": [
        "# Robust download function with retry logic\n",
        "def robust_download(client, symbol, timeframe, start_date, end_date, max_retries=3):\n",
        "    \"\"\"Download data with retry logic and proper error handling.\"\"\"\n",
        "    for attempt in range(max_retries):\n",
        "        try:\n",
        "            print(f\"   Attempt {attempt + 1}/{max_retries} for {symbol}...\")\n",
        "            df = client.download_data(\n",
        "                symbol=symbol,\n",
        "                timeframe=timeframe,\n",
        "                start_date=start_date,\n",
        "                end_date=end_date,\n",
        "                show_progress=False\n",
        "            )\n",
        "            print(f\"   Success! Downloaded {len(df):,} records\")\n",
        "            return df\n",
        "            \n",
        "        except Exception as e:\n",
        "            print(f\"   Attempt {attempt + 1} failed: {e}\")\n",
        "            if attempt == max_retries - 1:\n",
        "                print(f\"   All {max_retries} attempts failed for {symbol}\")\n",
        "                return None\n",
        "            else:\n",
        "                print(f\"   Retrying in 1 second...\")\n",
        "                import time\n",
        "                time.sleep(1)\n",
        "    \n",
        "    return None\n",
        "\n",
        "# Test the robust function\n",
        "print(\"\\n Testing robust download function:\")\n",
        "df_robust = robust_download(client, \"EURUSD\", \"H1\", \"2024-01-01\", \"2024-01-02\")\n"
      ]
    },
    {
      "cell_type": "markdown",
      "metadata": {
        "vscode": {
          "languageId": "raw"
        }
      },
      "source": [
        "# Example 7: Large Date Range with Chunking\n",
        "\n",
        "Download data for a large date range, demonstrating automatic chunking for better performance.\n"
      ]
    },
    {
      "cell_type": "code",
      "execution_count": null,
      "metadata": {},
      "outputs": [],
      "source": [
        "# Download a larger dataset to demonstrate chunking\n",
        "print(\"Downloading 1 year of EURUSD daily data...\")\n",
        "print(\"   (This demonstrates automatic chunking for large requests)\")\n",
        "\n",
        "try:\n",
        "    large_df = client.download_data(\n",
        "        symbol=\"EURUSD\",\n",
        "        timeframe=\"D1\",\n",
        "        start_date=\"2023-01-01\", \n",
        "        end_date=\"2023-12-31\",\n",
        "        max_workers=6,           # Increase parallel downloads\n",
        "        show_progress=True,      # Show progress bars\n",
        "        chunk_size_years=1       # Use 1-year chunks\n",
        "    )\n",
        "    \n",
        "    print(f\"Downloaded {len(large_df):,} daily candles\")\n",
        "    print(f\"Date range: {large_df['timestamp'].min()} to {large_df['timestamp'].max()}\")\n",
        "    \n",
        "    # Show sample of the data\n",
        "    print(\"\\nSample of downloaded data:\")\n",
        "    large_df.head()\n",
        "    \n",
        "except Exception as e:\n",
        "    print(f\"Error downloading large dataset: {e}\")\n",
        "    large_df = None\n"
      ]
    },
    {
      "cell_type": "code",
      "execution_count": null,
      "metadata": {},
      "outputs": [],
      "source": [
        "# Analyze the large dataset if we have it\n",
        "if large_df is not None and not large_df.empty:\n",
        "    # Analyze the data by month\n",
        "    print(\"Monthly summary:\")\n",
        "    large_df['timestamp'] = pd.to_datetime(large_df['timestamp'])\n",
        "    large_df['month'] = large_df['timestamp'].dt.to_period('M')\n",
        "    \n",
        "    monthly_stats = large_df.groupby('month').agg({\n",
        "        'high': 'max',\n",
        "        'low': 'min', \n",
        "        'close': ['first', 'last'],\n",
        "        'volume': 'mean'\n",
        "    }).round(5)\n",
        "    \n",
        "    # Show first few months\n",
        "    print(\"First 6 months of 2023:\")\n",
        "    monthly_stats.head(6)\n",
        "else:\n",
        "    print(\" No large dataset available for analysis\")\n"
      ]
    },
    {
      "cell_type": "markdown",
      "metadata": {
        "vscode": {
          "languageId": "raw"
        }
      },
      "source": [
        "# Summary\n",
        "\n",
        "## 🎉 Congratulations!\n",
        "\n",
        "You've successfully explored the key features of the Quantdle Python client:\n",
        "\n",
        "✅ **Basic data downloads** - Simple retrieval of historical market data  \n",
        "✅ **Multiple symbols** - Efficient batch processing of different assets  \n",
        "✅ **Data formats** - Working with both pandas and polars DataFrames  \n",
        "✅ **Symbol discovery** - Finding available data and getting metadata  \n",
        "✅ **Technical analysis** - Real-world data analysis and indicators  \n",
        "✅ **Error handling** - Robust code for production environments  \n",
        "✅ **Large datasets** - Automatic chunking for better performance  \n",
        "\n",
        "## Next Steps\n",
        "\n",
        "1. **Explore your data**: Try downloading data for symbols available in your account\n",
        "2. **Build strategies**: Use the technical indicators as a starting point for trading strategies\n",
        "3. **Optimize performance**: Experiment with different `max_workers` and `chunk_size_years` settings\n",
        "4. **Production deployment**: Implement proper error handling and logging for production use\n",
        "\n",
        "## Resources\n",
        "\n",
        "- 📚 [Quantdle Documentation](https://docs.quantdle.com)\n",
        "- 🐛 [GitHub Issues](https://github.com/quantdle/quantdle-python/issues)\n",
        "- 💬 [Community Support](https://quantdle.com)\n",
        "\n",
        "Happy trading! 📈\n"
      ]
    }
  ],
  "metadata": {
    "kernelspec": {
      "display_name": "dwlabs",
      "language": "python",
      "name": "python3"
    },
    "language_info": {
      "codemirror_mode": {
        "name": "ipython",
        "version": 3
      },
      "file_extension": ".py",
      "mimetype": "text/x-python",
      "name": "python",
      "nbconvert_exporter": "python",
      "pygments_lexer": "ipython3",
      "version": "3.10.14"
    }
  },
  "nbformat": 4,
  "nbformat_minor": 2
}
